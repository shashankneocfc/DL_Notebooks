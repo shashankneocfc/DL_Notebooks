{
 "cells": [
  {
   "cell_type": "code",
   "execution_count": null,
   "metadata": {},
   "outputs": [],
   "source": [
    "import numpy as np"
   ]
  },
  {
   "cell_type": "code",
   "execution_count": 1,
   "metadata": {},
   "outputs": [
    {
     "ename": "SyntaxError",
     "evalue": "invalid syntax (<ipython-input-1-55cd0fa3b856>, line 12)",
     "output_type": "error",
     "traceback": [
      "\u001b[1;36m  File \u001b[1;32m\"<ipython-input-1-55cd0fa3b856>\"\u001b[1;36m, line \u001b[1;32m12\u001b[0m\n\u001b[1;33m    def initialize_parameters(self)\u001b[0m\n\u001b[1;37m                                       ^\u001b[0m\n\u001b[1;31mSyntaxError\u001b[0m\u001b[1;31m:\u001b[0m invalid syntax\n"
     ]
    }
   ],
   "source": [
    "class FCC:\n",
    "    def __init__(self, input_dims, hidden_dims, num_classes):\n",
    "        self.input_dims = input_dims\n",
    "        self.hidden_dims = hidden_dims\n",
    "        self.num_classes = num_classes\n",
    "        self.cache = {}\n",
    "    \n",
    "    def softmax(self, x):\n",
    "        e_x = np.exp(x - np.max(x, axis=1, keepdims=True))\n",
    "        return e_x/np.sum(e_x, axis=1, keepdims=True)\n",
    "    \n",
    "    def initialize_parameters(self)    \n",
    "        self.W1 = np.randonm.randn(self.input_dims, self.hidden_dims)/np.sqrt(self.input_dims)\n",
    "        self.B1= np.zeros(1, self.hidden_dims)\n",
    "        self.W2 = np.randonm.randn(self.hidden_dims, self.hidden_dims)/np.sqrt(self.hidden_dims)\n",
    "        self.B2= np.zeros(1, self.hidden_dims)\n",
    "        self.W3 = np.randonm.randn(self.hidden_dims, self.num_classes)/np.sqrt(self.hidden_dims)\n",
    "        self.B3= np.zeros(1, self.num_classes)\n",
    "        \n",
    "    def forward_propagation(self, inputs):\n",
    "        \n",
    "        self.Z1 = np.dot(inputs, self.W1) + self.B1\n",
    "        self.A1 = np.maximum(0, self.Z1)\n",
    "        self.Z2 = np.dot(self.A1, self.W2) + self.B2\n",
    "        self.A2 = np.maximum(0, self.Z2)\n",
    "        self.Z3 = np.dot(self.A2, self.W3) + self.B3        \n",
    "        self.A3 = self.softmax(self.Z3)\n",
    "    \n",
    "    def compute_loss(self, Y, Y_pred):\n",
    "        m = Y.shape[1]\n",
    "        loss = -np.sum(np.multiply(np.log(Y_pred), Y) + np.multiply(np.log(1 - Y_pred), Y))\n",
    "        loss = (1/m)*loss\n",
    "        return loss\n",
    "    \n",
    "    def backward_propagation(self, X, Y):\n",
    "        m = Y.shape[1]\n",
    "        # A3 is of size [batch, num_classes], Y is of size [batch, num_classes] one hot encoding\n",
    "        self.dZ3 = self.A3 - Y\n",
    "        #dA2 = dZ3*W3 => [batch_size, num_classes]*[hidden_dims, num_classes].T => C\n",
    "        self.dA2 =  np.dot(self.dZ3, self.dW3.T)\n",
    "        #dZ2 = dA2  \n",
    "        dZ2 = np.multiply(self.dA2, np.int64(self.A2 > 0))\n",
    "        #dA1 = dZ2*W2 => [batch_size, hidden_dims]*[hidden_dims, hidden_dims].T => C\n",
    "        self.dA1 =  np.dot(self.dZ2, self.dW2.T)        \n",
    "        #dZ1 = dA1  \n",
    "        dZ1 = np.multiply(self.dA1, np.int64(self.A1 > 0))\n",
    "        \n",
    "        #Divide by m because this is over a batch\n",
    "        #dW3 = A2*dZ3 => [batch_size, hidden_dim]T*[batch_size, num_classes] => [hidden_dims, num_classes]\n",
    "        self.dW3 = 1/m * np.dot(self.A2.T, self.dZ3)\n",
    "        #dB3 = dZ3 => sum over [batch_size, num_classes] because dB3 is of size [1, num_classes]\n",
    "        self.dB3 = 1/m * np.sum(self.dZ3, axis=0, keepdims=True)\n",
    "        #dW2 = A1*dZ2 => [batch_size, hidden_dim]T*[batch_size, hidden_dims] => [hidden_dims, hidden_dims]\n",
    "        self.dW2 = 1/m * np.dot(self.A1.T, self.dZ2)\n",
    "        #dB2 = dZ2 => sum over [batch_size, hidden_dims] because dB2 is of size [1, hidden_dims]\n",
    "        self.dB2 = 1/m * np.sum(self.dZ2, axis=0, keepdims=True)\n",
    "        #dW1 = inputs*dZ1 => [batch_size, input_dims]T*[batch_size, hidden_dims] => [input_dims, hidden_dims]\n",
    "        self.dW1 = 1/m * np.dot(self.inputs.T, self.dZ1)\n",
    "        #dB1 = dZ1 => sum over [batch_size, hidden_dims] because dB3 is of size [1, hidden_dims]\n",
    "        self.dB1 = 1/m * np.sum(self.dZ1, axis=0, keepdims=True)        \n",
    "    \n",
    "    def update_parameters(self, learning_rate):\n",
    "        self.W1 = self.W1 - learning_rate * self.dW1\n",
    "        self.B1 = self.B1 - learning_rate * self.dB1\n",
    "        self.W2 = self.W2 - learning_rate * self.dW2\n",
    "        self.B2 = self.B2 - learning_rate * self.dB2\n",
    "        self.W3 = self.W3 - learning_rate * self.dW3\n",
    "        self.B3 = self.B3 - learning_rate * self.dB3        \n",
    "        "
   ]
  },
  {
   "cell_type": "code",
   "execution_count": null,
   "metadata": {},
   "outputs": [],
   "source": []
  }
 ],
 "metadata": {
  "kernelspec": {
   "display_name": "Python 3",
   "language": "python",
   "name": "python3"
  },
  "language_info": {
   "codemirror_mode": {
    "name": "ipython",
    "version": 3
   },
   "file_extension": ".py",
   "mimetype": "text/x-python",
   "name": "python",
   "nbconvert_exporter": "python",
   "pygments_lexer": "ipython3",
   "version": "3.7.3"
  }
 },
 "nbformat": 4,
 "nbformat_minor": 2
}
